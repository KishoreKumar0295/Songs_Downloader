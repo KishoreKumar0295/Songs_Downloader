{
 "cells": [
  {
   "cell_type": "code",
   "execution_count": 1,
   "id": "6375d4e9",
   "metadata": {},
   "outputs": [],
   "source": [
    "from pytube import YouTube\n",
    "from bs4 import BeautifulSoup\n",
    "import requests\n",
    "import os\n",
    "import numpy as np\n",
    "import pandas as pd\n",
    "import logging"
   ]
  },
  {
   "cell_type": "code",
   "execution_count": 2,
   "id": "69ceab46",
   "metadata": {},
   "outputs": [
    {
     "name": "stdout",
     "output_type": "stream",
     "text": [
      "Enter a song name(for more songs add ',' at end of every song): Jai Shree Ram\n"
     ]
    }
   ],
   "source": [
    "def get_songs_info():\n",
    "    song_name = input(\"Enter a song name(for more songs add ',' at end of every song): \")\n",
    "    return song_name\n",
    "\n",
    "def search_youtube(url):\n",
    "    response = requests.get(url)\n",
    "    soup = BeautifulSoup(response.content, \"html.parser\")\n",
    "\n",
    "    video_links = []\n",
    "    for a_tag in soup.find_all(\"a\", attrs={\"class\": \"yt-simple-endpoint style-scope ytd-video-renderer\"}):\n",
    "        video_link = \"https://www.youtube.com\" + a_tag.get(\"href\")\n",
    "        video_links.append(video_link)\n",
    "\n",
    "    # Return the list of video links\n",
    "    return video_links\n",
    "\n",
    "def download_audio(video_url):\n",
    "    try:\n",
    "        youtube_obj = YouTube(video_url)\n",
    "        audio_stream = youtube_obj.streams.get_audio_only()\n",
    "        audio_stream.download()\n",
    "        print(f\"Downloaded audio for {youtube_obj.title}\")\n",
    "    except Exception as e:\n",
    "        print(f\"Error downloading audio: {e}\")\n",
    "\n",
    "def save_audio(audio_data, song_name):\n",
    "    file_name = f\"{song_name}.mp3\"\n",
    "    with open(file_name, \"wb\") as f:\n",
    "        f.write(audio_data)\n",
    "    print(f\"Saved audio file: {file_name}\")\n",
    "\n",
    "def download_audio(video_url, download_path=\".\"):\n",
    "    logger = logging.getLogger(__name__)\n",
    "    try:\n",
    "        youtube_obj = YouTube(video_url)\n",
    "        audio_stream = youtube_obj.streams.get_audio_only()\n",
    "        file_name = f\"{youtube_obj.title}.mp3\"\n",
    "        download_file_path = os.path.join(download_path, file_name)\n",
    "        logger.info(\"Downloading audio for: %s\", youtube_obj.title)\n",
    "        audio_stream.download(filename=download_file_path)\n",
    "        logger.info(\"Downloaded audio for: %s\", youtube_obj.title)\n",
    "    except Exception as e:\n",
    "        logger.error(\"Error downloading audio: %s\", e)\n",
    "\n",
    "def main():\n",
    "    \"\"\"\n",
    "    Executes the song downloader app.\n",
    "    \"\"\"\n",
    "    song_name = get_songs_info()\n",
    "    url = f\"https://www.youtube.com/results?search_query={song_name}\"\n",
    "    video_links = search_youtube(url)\n",
    "\n",
    "    for video_link in video_links:\n",
    "        download_audio(video_link)\n",
    "\n",
    "if __name__ == \"__main__\":\n",
    "    main()\n"
   ]
  },
  {
   "cell_type": "code",
   "execution_count": null,
   "id": "aeb1bb97",
   "metadata": {},
   "outputs": [],
   "source": []
  }
 ],
 "metadata": {
  "kernelspec": {
   "display_name": "Python 3 (ipykernel)",
   "language": "python",
   "name": "python3"
  },
  "language_info": {
   "codemirror_mode": {
    "name": "ipython",
    "version": 3
   },
   "file_extension": ".py",
   "mimetype": "text/x-python",
   "name": "python",
   "nbconvert_exporter": "python",
   "pygments_lexer": "ipython3",
   "version": "3.9.13"
  }
 },
 "nbformat": 4,
 "nbformat_minor": 5
}
